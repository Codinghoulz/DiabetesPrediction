{
 "cells": [
  {
   "cell_type": "code",
   "execution_count": null,
   "id": "0ed3ac14",
   "metadata": {},
   "outputs": [],
   "source": [
    "def entropy(p):\n",
    "    entropy= -p*log(p)-(1-p)*log(1-p)"
   ]
  }
 ],
 "metadata": {
  "language_info": {
   "name": "python"
  }
 },
 "nbformat": 4,
 "nbformat_minor": 5
}
