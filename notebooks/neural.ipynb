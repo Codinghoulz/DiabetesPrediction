{
 "cells": [
  {
   "cell_type": "code",
   "execution_count": 2,
   "id": "5d2f3e7c",
   "metadata": {},
   "outputs": [],
   "source": [
    "#neural network\n",
    "import numpy as np\n",
    "import pandas as pd\n"
   ]
  },
  {
   "cell_type": "code",
   "execution_count": 20,
   "id": "b7592193",
   "metadata": {},
   "outputs": [
    {
     "name": "stdout",
     "output_type": "stream",
     "text": [
      "[[ 25.   30.   45.   22.   50.   29.   40.   35.   60.   38. ]\n",
      " [ 28.5  33.2  35.1  26.7  31.3  29.   34.5  30.2  36.5  27.8]\n",
      " [ 80.   85.   90.   75.   88.   82.   89.   78.   95.   83. ]\n",
      " [120.  130.  140.  110.  150.  125.  135.  128.  160.  118. ]]\n"
     ]
    }
   ],
   "source": [
    "data = np.array([\n",
    "    [25, 28.5, 80, 120, 0],\n",
    "    [30, 33.2, 85, 130, 1],\n",
    "    [45, 35.1, 90, 140, 1],\n",
    "    [22, 26.7, 75, 110, 0],\n",
    "    [50, 31.3, 88, 150, 1],\n",
    "    [29, 29.0, 82, 125, 0],\n",
    "    [40, 34.5, 89, 135, 1],\n",
    "    [35, 30.2, 78, 128, 0],\n",
    "    [60, 36.5, 95, 160, 1],\n",
    "    [38, 27.8, 83, 118, 0]\n",
    "])\n",
    "x=data[:,:-1]\n",
    "y=data[:,-1]\n",
    "x=x.T\n",
    "print(x)"
   ]
  },
  {
   "cell_type": "code",
   "execution_count": 4,
   "id": "46b7a4eb",
   "metadata": {},
   "outputs": [
    {
     "name": "stdout",
     "output_type": "stream",
     "text": [
      "4\n",
      "(5, 4)\n"
     ]
    }
   ],
   "source": [
    "n=x.shape[0]\n",
    "m=x.shape[1]\n",
    "print(x.shape[0])\n",
    "\n",
    "num_layers=2\n",
    "num_neurons1=5\n",
    "num_neurons2=1\n",
    "\n",
    "# np.random.seed(42)\n",
    "w_1=np.random.rand(num_neurons1,n)\n",
    "w_2=np.random.rand(num_neurons2,num_neurons1)\n",
    "\n",
    "b1=np.zeros((num_neurons1,1))\n",
    "b2=np.zeros((num_neurons2,1))\n",
    "print(w_1.shape)"
   ]
  },
  {
   "cell_type": "code",
   "execution_count": 5,
   "id": "eb9eab63",
   "metadata": {},
   "outputs": [],
   "source": [
    "class activation:\n",
    "\n",
    "    def relu(x):\n",
    "        if x>0:\n",
    "            return x\n",
    "        else:\n",
    "            return 0\n",
    "\n",
    "    def sigmoid(z):\n",
    "        y=1/(1+np.exp(-z))\n",
    "        return y"
   ]
  },
  {
   "cell_type": "code",
   "execution_count": 6,
   "id": "7e0a63bb",
   "metadata": {},
   "outputs": [],
   "source": [
    "def forward(w,x,b,activation):\n",
    "    z=np.dot(w,x)+b\n",
    "    a=activation(z)\n",
    "    return a,z\n"
   ]
  },
  {
   "cell_type": "code",
   "execution_count": 7,
   "id": "f876de27",
   "metadata": {},
   "outputs": [
    {
     "name": "stdout",
     "output_type": "stream",
     "text": [
      "[[1. 1. 1. 1. 1. 1. 1. 1. 1. 1.]\n",
      " [1. 1. 1. 1. 1. 1. 1. 1. 1. 1.]\n",
      " [1. 1. 1. 1. 1. 1. 1. 1. 1. 1.]\n",
      " [1. 1. 1. 1. 1. 1. 1. 1. 1. 1.]\n",
      " [1. 1. 1. 1. 1. 1. 1. 1. 1. 1.]] [[ 93.09126158 101.99747658 116.6640372   86.27252522 117.47275626\n",
      "   97.60756927 112.29746561  98.59868706 131.42981527 103.8131707 ]\n",
      " [135.96081539 147.38640416 158.24687273 125.76048183 162.37460085\n",
      "  140.74929643 153.94080797 141.17793815 175.39828858 136.7850904 ]\n",
      " [ 65.89528551  74.38017315  89.4435241   60.00907377  94.39837084\n",
      "   70.567234    84.02685268  76.16519352 106.98507664  75.16681921]\n",
      " [ 44.17318223  48.9944974   56.17955574  40.47000842  58.84743389\n",
      "   46.63109708  53.49551883  48.89079783  65.36729411  47.61865726]\n",
      " [ 58.67774348  66.21308449  77.37699101  54.16634776  77.16811409\n",
      "   61.88997485  73.8492492   64.8322299   88.3792791   66.21287192]]\n"
     ]
    }
   ],
   "source": [
    "a1,z1=forward(w_1,x,b1,activation.sigmoid)\n",
    "print(a1,z1)"
   ]
  },
  {
   "cell_type": "code",
   "execution_count": 8,
   "id": "53f68b9e",
   "metadata": {},
   "outputs": [
    {
     "name": "stdout",
     "output_type": "stream",
     "text": [
      "[[1. 1. 1. 1. 1. 1. 1. 1. 1. 1.]] [[144.4229381  160.12070465 182.40828662 133.14381296 185.97415046\n",
      "  151.65632595 174.82032736 156.72482134 207.95940345 156.81689778]]\n"
     ]
    }
   ],
   "source": [
    "a2,z2=forward(w_2,z1,b2,activation.sigmoid)\n",
    "print(a2,z2)"
   ]
  },
  {
   "cell_type": "code",
   "execution_count": 15,
   "id": "267aaa63",
   "metadata": {},
   "outputs": [],
   "source": [
    "def compute_cost(y,y_hat):\n",
    "    l=y*np.log(y_hat)+(1-y)*np.log(1-y_hat)\n",
    "    j=np.sum(l)\n",
    "    return j"
   ]
  },
  {
   "cell_type": "code",
   "execution_count": 24,
   "id": "9f6190f1",
   "metadata": {},
   "outputs": [],
   "source": [
    "def gradient_descent(num_iters, alpha):\n",
    "    global w_1, w_2, b1, b2 ,y # If weights are defined outside\n",
    "    \n",
    "    for i in range(num_iters):\n",
    "        # FORWARD PASS\n",
    "        a1, z1 = forward(w_1, x, b1,activation.sigmoid)\n",
    "        a2, z2 = forward(w_2, a1, b2,activation.sigmoid)\n",
    "\n",
    "        # BACKWARD PASS\n",
    "        m = x.shape[1]  # assuming x is (n_features, m_samples)\n",
    "        \n",
    "        dz2 = a2 - y  # derivative of loss wrt z2 (for sigmoid + MSE)\n",
    "        dw2 = (1/m) * np.dot(dz2, a1.T)\n",
    "        db2 = (1/m) * np.sum(dz2, axis=1, keepdims=True)\n",
    "\n",
    "        # sigmoid'(z1) = a1 * (1 - a1)\n",
    "        dz1 = np.dot(w_2.T, dz2) * (a1 * (1 - a1))\n",
    "        dw1 = (1/m) * np.dot(dz1, x.T)\n",
    "        db1 = (1/m) * np.sum(dz1, axis=1, keepdims=True)\n",
    "\n",
    "        # PARAMETER UPDATE\n",
    "        w_1 = w_1 - alpha * dw1\n",
    "        w_2 = w_2 - alpha * dw2\n",
    "        b1 = b1 - alpha * db1\n",
    "        b2 = b2 - alpha * db2\n",
    "\n",
    "        if (i%100==0):\n",
    "            cost=compute_cost(y,a2)\n",
    "            print(f\"cost at iteration {i}:{cost}\")\n"
   ]
  },
  {
   "cell_type": "code",
   "execution_count": 25,
   "id": "ca5ae987",
   "metadata": {},
   "outputs": [
    {
     "name": "stdout",
     "output_type": "stream",
     "text": [
      "cost at iteration 0:-6.931471805599453\n",
      "cost at iteration 100:-6.931471805599453\n",
      "cost at iteration 200:-6.931471805599453\n",
      "cost at iteration 300:-6.931471805599453\n",
      "cost at iteration 400:-6.931471805599453\n",
      "cost at iteration 500:-6.931471805599453\n",
      "cost at iteration 600:-6.931471805599453\n",
      "cost at iteration 700:-6.931471805599453\n",
      "cost at iteration 800:-6.931471805599453\n",
      "cost at iteration 900:-6.931471805599453\n",
      "cost at iteration 1000:-6.931471805599453\n",
      "cost at iteration 1100:-6.931471805599453\n",
      "cost at iteration 1200:-6.931471805599453\n",
      "cost at iteration 1300:-6.931471805599453\n",
      "cost at iteration 1400:-6.931471805599453\n",
      "cost at iteration 1500:-6.931471805599453\n",
      "cost at iteration 1600:-6.931471805599453\n",
      "cost at iteration 1700:-6.931471805599453\n",
      "cost at iteration 1800:-6.931471805599453\n",
      "cost at iteration 1900:-6.931471805599453\n",
      "cost at iteration 2000:-6.931471805599453\n",
      "cost at iteration 2100:-6.931471805599453\n",
      "cost at iteration 2200:-6.931471805599453\n",
      "cost at iteration 2300:-6.931471805599453\n",
      "cost at iteration 2400:-6.931471805599453\n",
      "cost at iteration 2500:-6.931471805599453\n",
      "cost at iteration 2600:-6.931471805599453\n",
      "cost at iteration 2700:-6.931471805599453\n",
      "cost at iteration 2800:-6.931471805599453\n",
      "cost at iteration 2900:-6.931471805599453\n",
      "cost at iteration 3000:-6.931471805599453\n",
      "cost at iteration 3100:-6.931471805599453\n",
      "cost at iteration 3200:-6.931471805599453\n",
      "cost at iteration 3300:-6.931471805599453\n",
      "cost at iteration 3400:-6.931471805599453\n",
      "cost at iteration 3500:-6.931471805599453\n",
      "cost at iteration 3600:-6.931471805599453\n",
      "cost at iteration 3700:-6.931471805599453\n",
      "cost at iteration 3800:-6.931471805599453\n",
      "cost at iteration 3900:-6.931471805599453\n",
      "cost at iteration 4000:-6.931471805599453\n",
      "cost at iteration 4100:-6.931471805599453\n",
      "cost at iteration 4200:-6.931471805599453\n",
      "cost at iteration 4300:-6.931471805599453\n",
      "cost at iteration 4400:-6.931471805599453\n",
      "cost at iteration 4500:-6.931471805599453\n",
      "cost at iteration 4600:-6.931471805599453\n",
      "cost at iteration 4700:-6.931471805599453\n",
      "cost at iteration 4800:-6.931471805599453\n",
      "cost at iteration 4900:-6.931471805599453\n",
      "cost at iteration 5000:-6.931471805599453\n",
      "cost at iteration 5100:-6.931471805599453\n",
      "cost at iteration 5200:-6.931471805599453\n",
      "cost at iteration 5300:-6.931471805599453\n",
      "cost at iteration 5400:-6.931471805599453\n",
      "cost at iteration 5500:-6.931471805599453\n",
      "cost at iteration 5600:-6.931471805599453\n",
      "cost at iteration 5700:-6.931471805599453\n",
      "cost at iteration 5800:-6.931471805599453\n",
      "cost at iteration 5900:-6.931471805599453\n",
      "cost at iteration 6000:-6.931471805599453\n",
      "cost at iteration 6100:-6.931471805599453\n",
      "cost at iteration 6200:-6.931471805599453\n",
      "cost at iteration 6300:-6.931471805599453\n",
      "cost at iteration 6400:-6.931471805599453\n",
      "cost at iteration 6500:-6.931471805599453\n",
      "cost at iteration 6600:-6.931471805599453\n",
      "cost at iteration 6700:-6.931471805599453\n",
      "cost at iteration 6800:-6.931471805599453\n",
      "cost at iteration 6900:-6.931471805599453\n",
      "cost at iteration 7000:-6.931471805599453\n",
      "cost at iteration 7100:-6.931471805599453\n",
      "cost at iteration 7200:-6.931471805599453\n",
      "cost at iteration 7300:-6.931471805599453\n",
      "cost at iteration 7400:-6.931471805599453\n",
      "cost at iteration 7500:-6.931471805599453\n",
      "cost at iteration 7600:-6.931471805599453\n",
      "cost at iteration 7700:-6.931471805599453\n",
      "cost at iteration 7800:-6.931471805599453\n",
      "cost at iteration 7900:-6.931471805599453\n",
      "cost at iteration 8000:-6.931471805599453\n",
      "cost at iteration 8100:-6.931471805599453\n",
      "cost at iteration 8200:-6.931471805599453\n",
      "cost at iteration 8300:-6.931471805599453\n",
      "cost at iteration 8400:-6.931471805599453\n",
      "cost at iteration 8500:-6.931471805599453\n",
      "cost at iteration 8600:-6.931471805599453\n",
      "cost at iteration 8700:-6.931471805599453\n",
      "cost at iteration 8800:-6.931471805599453\n",
      "cost at iteration 8900:-6.931471805599453\n",
      "cost at iteration 9000:-6.931471805599453\n",
      "cost at iteration 9100:-6.931471805599453\n",
      "cost at iteration 9200:-6.931471805599453\n",
      "cost at iteration 9300:-6.931471805599453\n",
      "cost at iteration 9400:-6.931471805599453\n",
      "cost at iteration 9500:-6.931471805599453\n",
      "cost at iteration 9600:-6.931471805599453\n",
      "cost at iteration 9700:-6.931471805599453\n",
      "cost at iteration 9800:-6.931471805599453\n",
      "cost at iteration 9900:-6.931471805599453\n"
     ]
    }
   ],
   "source": [
    "gradient_descent(num_iters=10000,alpha=0.01)"
   ]
  },
  {
   "cell_type": "code",
   "execution_count": null,
   "id": "f994f45f",
   "metadata": {},
   "outputs": [],
   "source": []
  }
 ],
 "metadata": {
  "kernelspec": {
   "display_name": "Python 3",
   "language": "python",
   "name": "python3"
  },
  "language_info": {
   "codemirror_mode": {
    "name": "ipython",
    "version": 3
   },
   "file_extension": ".py",
   "mimetype": "text/x-python",
   "name": "python",
   "nbconvert_exporter": "python",
   "pygments_lexer": "ipython3",
   "version": "3.12.7"
  }
 },
 "nbformat": 4,
 "nbformat_minor": 5
}
